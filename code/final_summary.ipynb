{
 "cells": [
  {
   "cell_type": "code",
   "execution_count": 1,
   "metadata": {},
   "outputs": [],
   "source": [
    "import pandas as pd"
   ]
  },
  {
   "cell_type": "markdown",
   "metadata": {},
   "source": [
    "## Set up columns"
   ]
  },
  {
   "cell_type": "code",
   "execution_count": 3,
   "metadata": {},
   "outputs": [],
   "source": [
    "model = ['extratrees',\n",
    "         'random forest',\n",
    "         'xgboost',\n",
    "         'adaboost',\n",
    "         'svm',\n",
    "         'gradient boost',\n",
    "         'logistic regression', \n",
    "         'voting classifier 1',\n",
    "         'voting classifier 2',\n",
    "         'voting classifier 3', \n",
    "         'voting classifier 4',\n",
    "         'voting classifier 5', \n",
    "         'voting classifier 6']"
   ]
  },
  {
   "cell_type": "code",
   "execution_count": 13,
   "metadata": {},
   "outputs": [],
   "source": [
    "params = ['default',\n",
    "          'default',\n",
    "          'learning_rate = 0.1, max_depth = 500, n_estimators=500, reg_alpha=0, reg_lambda=0.5', \n",
    "          'base_estimator = ExtraTree, learning_rate = 1, n_estimators = 500, max_features = sqrt, learning_rate=0.1, n_estimators=300, max_depth=20, subsample=0.9', \n",
    "          'C = 1000, gamma = auto', \n",
    "          'min_samples_leaf=15, min_samples_split=500, loss = deviance, ', \n",
    "          'C = 10', \n",
    "          'ExtraTree & Adaboost', \n",
    "          'ExtraTree & Random Forest', \n",
    "          'ExtraTree & XgBoost', \n",
    "          'ExtraTree & SVM',\n",
    "          'ExtraTree, AdaBoost & Random Forest',\n",
    "          'ExtraTree, AdaBoost, Random Forest & SVM']"
   ]
  },
  {
   "cell_type": "code",
   "execution_count": 5,
   "metadata": {},
   "outputs": [],
   "source": [
    "false_positive = [4,7,12,6,7,20,1735,4,4,4,2,4,4]\n",
    "false_negative = [7,7,7,7,15,14,9,7,7,8,16,7,7]"
   ]
  },
  {
   "cell_type": "code",
   "execution_count": 6,
   "metadata": {},
   "outputs": [],
   "source": [
    "recall_train = [0.960422,1.0, 0.968338, 0.960422, 0.886544, 1.0, \n",
    "                0.92876, 0.957784,0.94723,0.957784,0.886544,0.960422,0.949868]\n",
    "recall_test = [0.938053,0.858407,0.938053,0.938053,0.867257,0.876106,\n",
    "               0.920354,0.938053,0.938053,0.929204,0.858407,0.938053,0.938053]"
   ]
  },
  {
   "cell_type": "code",
   "execution_count": 7,
   "metadata": {},
   "outputs": [],
   "source": [
    "precision_train = [0.981132,1.0,0.933842,0.981132,0.915531,1.0,0.062456,\n",
    "                   0.98374,0.986264,0.989101,0.988235,0.983784,0.986301]\n",
    "precision_test = [0.963636,0.836207,0.898305,0.946429,0.933333,0.831933,\n",
    "                  0.056552,0.963636,0.963636,0.963303,0.979798,0.963636,0.963636]"
   ]
  },
  {
   "cell_type": "code",
   "execution_count": 8,
   "metadata": {},
   "outputs": [],
   "source": [
    "roc_auc_train = [0.980195,1.0,0.984108,0.980195,0.943199,1.0,0.951989,0.978878,\n",
    "                 0.973603,0.978882,0.943262,0.980197,0.974922]\n",
    "roc_auc_test = [0.968998,0.92907,0.968942,0.968984,0.933579,0.937912,0.947974,\n",
    "                0.968998,0.968998,0.964574,0.929189,0.968998,0.968998]"
   ]
  },
  {
   "cell_type": "code",
   "execution_count": 9,
   "metadata": {},
   "outputs": [
    {
     "data": {
      "text/plain": [
       "(13, 13)"
      ]
     },
     "execution_count": 9,
     "metadata": {},
     "output_type": "execute_result"
    }
   ],
   "source": [
    "len(false_positive), len(false_negative)"
   ]
  },
  {
   "cell_type": "code",
   "execution_count": 10,
   "metadata": {},
   "outputs": [
    {
     "data": {
      "text/plain": [
       "(13, 13)"
      ]
     },
     "execution_count": 10,
     "metadata": {},
     "output_type": "execute_result"
    }
   ],
   "source": [
    "len(recall_train), len(recall_test)"
   ]
  },
  {
   "cell_type": "code",
   "execution_count": 11,
   "metadata": {},
   "outputs": [
    {
     "data": {
      "text/plain": [
       "(13, 13)"
      ]
     },
     "execution_count": 11,
     "metadata": {},
     "output_type": "execute_result"
    }
   ],
   "source": [
    "len(roc_auc_train), len(roc_auc_test)"
   ]
  },
  {
   "cell_type": "code",
   "execution_count": 14,
   "metadata": {},
   "outputs": [
    {
     "data": {
      "text/plain": [
       "(13, 13)"
      ]
     },
     "execution_count": 14,
     "metadata": {},
     "output_type": "execute_result"
    }
   ],
   "source": [
    "len(model),len(params)"
   ]
  },
  {
   "cell_type": "markdown",
   "metadata": {},
   "source": [
    "## Making dataset"
   ]
  },
  {
   "cell_type": "code",
   "execution_count": 20,
   "metadata": {},
   "outputs": [],
   "source": [
    "data_dict = {\n",
    "    'model':model,\n",
    "    'params': params,\n",
    "    'false_positive (misclassified fraud)': false_positive,\n",
    "    'false_negative (missing fraud)': false_negative,\n",
    "    'recall_train': recall_train,\n",
    "    'recall_test': recall_test,\n",
    "    'precision_train': precision_train,\n",
    "    'precision_test': precision_test,\n",
    "    'roc_auc_train': roc_auc_train,\n",
    "    'roc_auc_test': roc_auc_test\n",
    "}"
   ]
  },
  {
   "cell_type": "code",
   "execution_count": 21,
   "metadata": {},
   "outputs": [],
   "source": [
    "data = pd.DataFrame(data_dict)"
   ]
  },
  {
   "cell_type": "markdown",
   "metadata": {},
   "source": [
    "## Export"
   ]
  },
  {
   "cell_type": "code",
   "execution_count": 22,
   "metadata": {},
   "outputs": [],
   "source": [
    "data.to_csv('../data/final_summary.csv',index=False)"
   ]
  },
  {
   "cell_type": "code",
   "execution_count": 23,
   "metadata": {},
   "outputs": [
    {
     "data": {
      "text/html": [
       "<div>\n",
       "<style scoped>\n",
       "    .dataframe tbody tr th:only-of-type {\n",
       "        vertical-align: middle;\n",
       "    }\n",
       "\n",
       "    .dataframe tbody tr th {\n",
       "        vertical-align: top;\n",
       "    }\n",
       "\n",
       "    .dataframe thead th {\n",
       "        text-align: right;\n",
       "    }\n",
       "</style>\n",
       "<table border=\"1\" class=\"dataframe\">\n",
       "  <thead>\n",
       "    <tr style=\"text-align: right;\">\n",
       "      <th></th>\n",
       "      <th>model</th>\n",
       "      <th>params</th>\n",
       "      <th>false_positive (misclassified fraud)</th>\n",
       "      <th>false_negative (missing fraud)</th>\n",
       "      <th>recall_train</th>\n",
       "      <th>recall_test</th>\n",
       "      <th>precision_train</th>\n",
       "      <th>precision_test</th>\n",
       "      <th>roc_auc_train</th>\n",
       "      <th>roc_auc_test</th>\n",
       "    </tr>\n",
       "  </thead>\n",
       "  <tbody>\n",
       "    <tr>\n",
       "      <th>0</th>\n",
       "      <td>extratrees</td>\n",
       "      <td>default</td>\n",
       "      <td>4</td>\n",
       "      <td>7</td>\n",
       "      <td>0.960422</td>\n",
       "      <td>0.938053</td>\n",
       "      <td>0.981132</td>\n",
       "      <td>0.963636</td>\n",
       "      <td>0.980195</td>\n",
       "      <td>0.968998</td>\n",
       "    </tr>\n",
       "    <tr>\n",
       "      <th>1</th>\n",
       "      <td>random forest</td>\n",
       "      <td>default</td>\n",
       "      <td>7</td>\n",
       "      <td>7</td>\n",
       "      <td>1.000000</td>\n",
       "      <td>0.858407</td>\n",
       "      <td>1.000000</td>\n",
       "      <td>0.836207</td>\n",
       "      <td>1.000000</td>\n",
       "      <td>0.929070</td>\n",
       "    </tr>\n",
       "    <tr>\n",
       "      <th>2</th>\n",
       "      <td>xgboost</td>\n",
       "      <td>learning_rate = 0.1, max_depth = 500, n_estima...</td>\n",
       "      <td>12</td>\n",
       "      <td>7</td>\n",
       "      <td>0.968338</td>\n",
       "      <td>0.938053</td>\n",
       "      <td>0.933842</td>\n",
       "      <td>0.898305</td>\n",
       "      <td>0.984108</td>\n",
       "      <td>0.968942</td>\n",
       "    </tr>\n",
       "    <tr>\n",
       "      <th>3</th>\n",
       "      <td>adaboost</td>\n",
       "      <td>base_estimator = ExtraTree, learning_rate = 1,...</td>\n",
       "      <td>6</td>\n",
       "      <td>7</td>\n",
       "      <td>0.960422</td>\n",
       "      <td>0.938053</td>\n",
       "      <td>0.981132</td>\n",
       "      <td>0.946429</td>\n",
       "      <td>0.980195</td>\n",
       "      <td>0.968984</td>\n",
       "    </tr>\n",
       "    <tr>\n",
       "      <th>4</th>\n",
       "      <td>svm</td>\n",
       "      <td>C = 1000, gamma = auto</td>\n",
       "      <td>7</td>\n",
       "      <td>7</td>\n",
       "      <td>0.886544</td>\n",
       "      <td>0.867257</td>\n",
       "      <td>0.915531</td>\n",
       "      <td>0.933333</td>\n",
       "      <td>0.943199</td>\n",
       "      <td>0.933579</td>\n",
       "    </tr>\n",
       "    <tr>\n",
       "      <th>5</th>\n",
       "      <td>gradient boost</td>\n",
       "      <td>min_samples_leaf=15, min_samples_split=500, lo...</td>\n",
       "      <td>20</td>\n",
       "      <td>14</td>\n",
       "      <td>1.000000</td>\n",
       "      <td>0.876106</td>\n",
       "      <td>1.000000</td>\n",
       "      <td>0.831933</td>\n",
       "      <td>1.000000</td>\n",
       "      <td>0.937912</td>\n",
       "    </tr>\n",
       "    <tr>\n",
       "      <th>6</th>\n",
       "      <td>logistic regression</td>\n",
       "      <td>C = 10</td>\n",
       "      <td>1735</td>\n",
       "      <td>9</td>\n",
       "      <td>0.928760</td>\n",
       "      <td>0.920354</td>\n",
       "      <td>0.062456</td>\n",
       "      <td>0.056552</td>\n",
       "      <td>0.951989</td>\n",
       "      <td>0.947974</td>\n",
       "    </tr>\n",
       "    <tr>\n",
       "      <th>7</th>\n",
       "      <td>voting classifier 1</td>\n",
       "      <td>ExtraTree &amp; Adaboost</td>\n",
       "      <td>4</td>\n",
       "      <td>7</td>\n",
       "      <td>0.957784</td>\n",
       "      <td>0.938053</td>\n",
       "      <td>0.983740</td>\n",
       "      <td>0.963636</td>\n",
       "      <td>0.978878</td>\n",
       "      <td>0.968998</td>\n",
       "    </tr>\n",
       "    <tr>\n",
       "      <th>8</th>\n",
       "      <td>voting classifier 2</td>\n",
       "      <td>ExtraTree &amp; Random Forest</td>\n",
       "      <td>4</td>\n",
       "      <td>7</td>\n",
       "      <td>0.947230</td>\n",
       "      <td>0.938053</td>\n",
       "      <td>0.986264</td>\n",
       "      <td>0.963636</td>\n",
       "      <td>0.973603</td>\n",
       "      <td>0.968998</td>\n",
       "    </tr>\n",
       "    <tr>\n",
       "      <th>9</th>\n",
       "      <td>voting classifier 3</td>\n",
       "      <td>ExtraTree &amp; XgBoost</td>\n",
       "      <td>4</td>\n",
       "      <td>8</td>\n",
       "      <td>0.957784</td>\n",
       "      <td>0.929204</td>\n",
       "      <td>0.989101</td>\n",
       "      <td>0.963303</td>\n",
       "      <td>0.978882</td>\n",
       "      <td>0.964574</td>\n",
       "    </tr>\n",
       "    <tr>\n",
       "      <th>10</th>\n",
       "      <td>voting classifier 4</td>\n",
       "      <td>ExtraTree &amp; SVM</td>\n",
       "      <td>2</td>\n",
       "      <td>16</td>\n",
       "      <td>0.886544</td>\n",
       "      <td>0.858407</td>\n",
       "      <td>0.988235</td>\n",
       "      <td>0.979798</td>\n",
       "      <td>0.943262</td>\n",
       "      <td>0.929189</td>\n",
       "    </tr>\n",
       "    <tr>\n",
       "      <th>11</th>\n",
       "      <td>voting classifier 5</td>\n",
       "      <td>ExtraTree, AdaBoost &amp; Random Forest</td>\n",
       "      <td>4</td>\n",
       "      <td>7</td>\n",
       "      <td>0.960422</td>\n",
       "      <td>0.938053</td>\n",
       "      <td>0.983784</td>\n",
       "      <td>0.963636</td>\n",
       "      <td>0.980197</td>\n",
       "      <td>0.968998</td>\n",
       "    </tr>\n",
       "    <tr>\n",
       "      <th>12</th>\n",
       "      <td>voting classifier 6</td>\n",
       "      <td>ExtraTree, AdaBoost, Random Forest &amp; SVM</td>\n",
       "      <td>4</td>\n",
       "      <td>7</td>\n",
       "      <td>0.949868</td>\n",
       "      <td>0.938053</td>\n",
       "      <td>0.986301</td>\n",
       "      <td>0.963636</td>\n",
       "      <td>0.974922</td>\n",
       "      <td>0.968998</td>\n",
       "    </tr>\n",
       "  </tbody>\n",
       "</table>\n",
       "</div>"
      ],
      "text/plain": [
       "                  model                                             params  \\\n",
       "0            extratrees                                            default   \n",
       "1         random forest                                            default   \n",
       "2               xgboost  learning_rate = 0.1, max_depth = 500, n_estima...   \n",
       "3              adaboost  base_estimator = ExtraTree, learning_rate = 1,...   \n",
       "4                   svm                             C = 1000, gamma = auto   \n",
       "5        gradient boost  min_samples_leaf=15, min_samples_split=500, lo...   \n",
       "6   logistic regression                                             C = 10   \n",
       "7   voting classifier 1                               ExtraTree & Adaboost   \n",
       "8   voting classifier 2                          ExtraTree & Random Forest   \n",
       "9   voting classifier 3                                ExtraTree & XgBoost   \n",
       "10  voting classifier 4                                    ExtraTree & SVM   \n",
       "11  voting classifier 5                ExtraTree, AdaBoost & Random Forest   \n",
       "12  voting classifier 6           ExtraTree, AdaBoost, Random Forest & SVM   \n",
       "\n",
       "    false_positive (misclassified fraud)  false_negative (missing fraud)  \\\n",
       "0                                      4                               7   \n",
       "1                                      7                               7   \n",
       "2                                     12                               7   \n",
       "3                                      6                               7   \n",
       "4                                      7                               7   \n",
       "5                                     20                              14   \n",
       "6                                   1735                               9   \n",
       "7                                      4                               7   \n",
       "8                                      4                               7   \n",
       "9                                      4                               8   \n",
       "10                                     2                              16   \n",
       "11                                     4                               7   \n",
       "12                                     4                               7   \n",
       "\n",
       "    recall_train  recall_test  precision_train  precision_test  roc_auc_train  \\\n",
       "0       0.960422     0.938053         0.981132        0.963636       0.980195   \n",
       "1       1.000000     0.858407         1.000000        0.836207       1.000000   \n",
       "2       0.968338     0.938053         0.933842        0.898305       0.984108   \n",
       "3       0.960422     0.938053         0.981132        0.946429       0.980195   \n",
       "4       0.886544     0.867257         0.915531        0.933333       0.943199   \n",
       "5       1.000000     0.876106         1.000000        0.831933       1.000000   \n",
       "6       0.928760     0.920354         0.062456        0.056552       0.951989   \n",
       "7       0.957784     0.938053         0.983740        0.963636       0.978878   \n",
       "8       0.947230     0.938053         0.986264        0.963636       0.973603   \n",
       "9       0.957784     0.929204         0.989101        0.963303       0.978882   \n",
       "10      0.886544     0.858407         0.988235        0.979798       0.943262   \n",
       "11      0.960422     0.938053         0.983784        0.963636       0.980197   \n",
       "12      0.949868     0.938053         0.986301        0.963636       0.974922   \n",
       "\n",
       "    roc_auc_test  \n",
       "0       0.968998  \n",
       "1       0.929070  \n",
       "2       0.968942  \n",
       "3       0.968984  \n",
       "4       0.933579  \n",
       "5       0.937912  \n",
       "6       0.947974  \n",
       "7       0.968998  \n",
       "8       0.968998  \n",
       "9       0.964574  \n",
       "10      0.929189  \n",
       "11      0.968998  \n",
       "12      0.968998  "
      ]
     },
     "execution_count": 23,
     "metadata": {},
     "output_type": "execute_result"
    }
   ],
   "source": [
    "data"
   ]
  }
 ],
 "metadata": {
  "kernelspec": {
   "display_name": "Python 3",
   "language": "python",
   "name": "python3"
  },
  "language_info": {
   "codemirror_mode": {
    "name": "ipython",
    "version": 3
   },
   "file_extension": ".py",
   "mimetype": "text/x-python",
   "name": "python",
   "nbconvert_exporter": "python",
   "pygments_lexer": "ipython3",
   "version": "3.7.6"
  }
 },
 "nbformat": 4,
 "nbformat_minor": 4
}
